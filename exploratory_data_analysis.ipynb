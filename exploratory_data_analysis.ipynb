{
 "cells": [
  {
   "cell_type": "markdown",
   "id": "9bc471b3",
   "metadata": {},
   "source": [
    "### Imports and Installs"
   ]
  },
  {
   "cell_type": "code",
   "execution_count": 8,
   "id": "c946e83a",
   "metadata": {},
   "outputs": [],
   "source": [
    "from stats_nba_web_scrapper import * "
   ]
  },
  {
   "cell_type": "code",
   "execution_count": 9,
   "id": "1916234b",
   "metadata": {},
   "outputs": [],
   "source": [
    "path_API_download =  \"/Users/rishabhpatni/Desktop/Projects/nba-play-by-play-probability-generator/final_values.csv\"\n",
    "path_defender_directory = \"/Users/rishabhpatni/Desktop/Projects/nba-play-by-play-probability-generator/Data/\""
   ]
  },
  {
   "cell_type": "markdown",
   "id": "6f47f01a",
   "metadata": {},
   "source": [
    "## Exploratory Data Analysis"
   ]
  },
  {
   "cell_type": "code",
   "execution_count": 10,
   "id": "0c840853",
   "metadata": {},
   "outputs": [
    {
     "name": "stdout",
     "output_type": "stream",
     "text": [
      "177818\n"
     ]
    }
   ],
   "source": [
    "dataset = PlayByPlayNBAApiDataset(defender_distance_data = path_defender_directory ,file_path = path_API_download).data"
   ]
  },
  {
   "cell_type": "code",
   "execution_count": 11,
   "id": "99adf5fd",
   "metadata": {},
   "outputs": [
    {
     "data": {
      "text/html": [
       "<div>\n",
       "<style scoped>\n",
       "    .dataframe tbody tr th:only-of-type {\n",
       "        vertical-align: middle;\n",
       "    }\n",
       "\n",
       "    .dataframe tbody tr th {\n",
       "        vertical-align: top;\n",
       "    }\n",
       "\n",
       "    .dataframe thead th {\n",
       "        text-align: right;\n",
       "    }\n",
       "</style>\n",
       "<table border=\"1\" class=\"dataframe\">\n",
       "  <thead>\n",
       "    <tr style=\"text-align: right;\">\n",
       "      <th></th>\n",
       "      <th>player_name</th>\n",
       "      <th>team_name</th>\n",
       "      <th>period</th>\n",
       "      <th>time</th>\n",
       "      <th>shot_zone</th>\n",
       "      <th>shot_distance</th>\n",
       "      <th>opponent</th>\n",
       "      <th>x</th>\n",
       "      <th>y</th>\n",
       "      <th>dribble_range</th>\n",
       "      <th>touch_time</th>\n",
       "      <th>closest_def_dist</th>\n",
       "      <th>value</th>\n",
       "      <th>made</th>\n",
       "      <th>margin</th>\n",
       "      <th>shot_type</th>\n",
       "    </tr>\n",
       "  </thead>\n",
       "  <tbody>\n",
       "    <tr>\n",
       "      <th>536</th>\n",
       "      <td>Bam Adebayo</td>\n",
       "      <td>Miami Heat</td>\n",
       "      <td>1</td>\n",
       "      <td>10:58</td>\n",
       "      <td>Center(C)</td>\n",
       "      <td>17</td>\n",
       "      <td>NOP</td>\n",
       "      <td>-14</td>\n",
       "      <td>171</td>\n",
       "      <td>0 Dribbles</td>\n",
       "      <td>Touch &lt; 2 Seconds</td>\n",
       "      <td>6+ Feet - Wide Open</td>\n",
       "      <td>2.0</td>\n",
       "      <td>False</td>\n",
       "      <td>0.0</td>\n",
       "      <td>LongMidRange</td>\n",
       "    </tr>\n",
       "    <tr>\n",
       "      <th>537</th>\n",
       "      <td>Bam Adebayo</td>\n",
       "      <td>Miami Heat</td>\n",
       "      <td>1</td>\n",
       "      <td>08:50</td>\n",
       "      <td>Center(C)</td>\n",
       "      <td>6</td>\n",
       "      <td>NOP</td>\n",
       "      <td>-57</td>\n",
       "      <td>34</td>\n",
       "      <td>0 Dribbles</td>\n",
       "      <td>Touch &lt; 2 Seconds</td>\n",
       "      <td>2-4 Feet - Tight</td>\n",
       "      <td>2.0</td>\n",
       "      <td>False</td>\n",
       "      <td>-4.0</td>\n",
       "      <td>ShortMidRange</td>\n",
       "    </tr>\n",
       "    <tr>\n",
       "      <th>538</th>\n",
       "      <td>Bam Adebayo</td>\n",
       "      <td>Miami Heat</td>\n",
       "      <td>1</td>\n",
       "      <td>05:12</td>\n",
       "      <td>Left Side(L)</td>\n",
       "      <td>8</td>\n",
       "      <td>NOP</td>\n",
       "      <td>-43</td>\n",
       "      <td>71</td>\n",
       "      <td>1 Dribble</td>\n",
       "      <td>Touch &lt; 2 Seconds</td>\n",
       "      <td>2-4 Feet - Tight</td>\n",
       "      <td>2.0</td>\n",
       "      <td>True</td>\n",
       "      <td>-5.0</td>\n",
       "      <td>ShortMidRange</td>\n",
       "    </tr>\n",
       "    <tr>\n",
       "      <th>539</th>\n",
       "      <td>Bam Adebayo</td>\n",
       "      <td>Miami Heat</td>\n",
       "      <td>2</td>\n",
       "      <td>10:34</td>\n",
       "      <td>Center(C)</td>\n",
       "      <td>2</td>\n",
       "      <td>NOP</td>\n",
       "      <td>-13</td>\n",
       "      <td>16</td>\n",
       "      <td>0 Dribbles</td>\n",
       "      <td>Touch &lt; 2 Seconds</td>\n",
       "      <td>2-4 Feet - Tight</td>\n",
       "      <td>2.0</td>\n",
       "      <td>True</td>\n",
       "      <td>6.0</td>\n",
       "      <td>AtRim</td>\n",
       "    </tr>\n",
       "    <tr>\n",
       "      <th>540</th>\n",
       "      <td>Bam Adebayo</td>\n",
       "      <td>Miami Heat</td>\n",
       "      <td>2</td>\n",
       "      <td>09:27</td>\n",
       "      <td>Center(C)</td>\n",
       "      <td>2</td>\n",
       "      <td>NOP</td>\n",
       "      <td>20</td>\n",
       "      <td>19</td>\n",
       "      <td>0 Dribbles</td>\n",
       "      <td>Touch &lt; 2 Seconds</td>\n",
       "      <td>6+ Feet - Wide Open</td>\n",
       "      <td>2.0</td>\n",
       "      <td>True</td>\n",
       "      <td>10.0</td>\n",
       "      <td>AtRim</td>\n",
       "    </tr>\n",
       "  </tbody>\n",
       "</table>\n",
       "</div>"
      ],
      "text/plain": [
       "     player_name   team_name  period   time     shot_zone  shot_distance  \\\n",
       "536  Bam Adebayo  Miami Heat       1  10:58     Center(C)             17   \n",
       "537  Bam Adebayo  Miami Heat       1  08:50     Center(C)              6   \n",
       "538  Bam Adebayo  Miami Heat       1  05:12  Left Side(L)              8   \n",
       "539  Bam Adebayo  Miami Heat       2  10:34     Center(C)              2   \n",
       "540  Bam Adebayo  Miami Heat       2  09:27     Center(C)              2   \n",
       "\n",
       "    opponent   x    y dribble_range         touch_time     closest_def_dist  \\\n",
       "536      NOP -14  171    0 Dribbles  Touch < 2 Seconds  6+ Feet - Wide Open   \n",
       "537      NOP -57   34    0 Dribbles  Touch < 2 Seconds     2-4 Feet - Tight   \n",
       "538      NOP -43   71     1 Dribble  Touch < 2 Seconds     2-4 Feet - Tight   \n",
       "539      NOP -13   16    0 Dribbles  Touch < 2 Seconds     2-4 Feet - Tight   \n",
       "540      NOP  20   19    0 Dribbles  Touch < 2 Seconds  6+ Feet - Wide Open   \n",
       "\n",
       "     value   made  margin      shot_type  \n",
       "536    2.0  False     0.0   LongMidRange  \n",
       "537    2.0  False    -4.0  ShortMidRange  \n",
       "538    2.0   True    -5.0  ShortMidRange  \n",
       "539    2.0   True     6.0          AtRim  \n",
       "540    2.0   True    10.0          AtRim  "
      ]
     },
     "execution_count": 11,
     "metadata": {},
     "output_type": "execute_result"
    }
   ],
   "source": [
    "dataset.head(5)"
   ]
  },
  {
   "cell_type": "code",
   "execution_count": 12,
   "id": "d5e5f15b",
   "metadata": {},
   "outputs": [
    {
     "data": {
      "text/plain": [
       "2-4 Feet - Tight         35.15%\n",
       "4-6 Feet - Open          30.29%\n",
       "6+ Feet - Wide Open      28.24%\n",
       "0-2 Feet - Very Tight     6.33%\n",
       "Name: closest_def_dist, dtype: object"
      ]
     },
     "execution_count": 12,
     "metadata": {},
     "output_type": "execute_result"
    }
   ],
   "source": [
    "age = round(sum(dataset[\"closest_def_dist\"].value_counts()/len(dataset) * 100), 2)\n",
    "round(dataset[\"closest_def_dist\"].value_counts()/len(dataset) * 100, 2).astype(str) + '%'\n"
   ]
  },
  {
   "cell_type": "code",
   "execution_count": 14,
   "id": "3164303e",
   "metadata": {},
   "outputs": [
    {
     "data": {
      "text/plain": [
       "2.0    50.73%\n",
       "3.0    49.27%\n",
       "Name: value, dtype: object"
      ]
     },
     "execution_count": 14,
     "metadata": {},
     "output_type": "execute_result"
    }
   ],
   "source": [
    "round(dataset[\"value\"].value_counts()/len(dataset) * 100, 2).astype(str) + '%'"
   ]
  },
  {
   "cell_type": "code",
   "execution_count": 15,
   "id": "1d4d6b5b",
   "metadata": {},
   "outputs": [
    {
     "data": {
      "text/plain": [
       "0 Dribbles      50.47%\n",
       "3-6 Dribbles    17.59%\n",
       "1 Dribble       10.78%\n",
       "7+ Dribbles     10.77%\n",
       "2 Dribbles      10.39%\n",
       "Name: dribble_range, dtype: object"
      ]
     },
     "execution_count": 15,
     "metadata": {},
     "output_type": "execute_result"
    }
   ],
   "source": [
    "round(dataset[\"dribble_range\"].value_counts()/len(dataset) * 100, 2).astype(str) + '%'"
   ]
  },
  {
   "cell_type": "code",
   "execution_count": 16,
   "id": "83f75755",
   "metadata": {},
   "outputs": [
    {
     "data": {
      "text/plain": [
       "Arc3             37.27%\n",
       "AtRim            23.93%\n",
       "ShortMidRange    17.84%\n",
       "Corner3          12.01%\n",
       "LongMidRange      8.96%\n",
       "Name: shot_type, dtype: object"
      ]
     },
     "execution_count": 16,
     "metadata": {},
     "output_type": "execute_result"
    }
   ],
   "source": [
    "round(dataset[\"shot_type\"].value_counts()/len(dataset) * 100, 2).astype(str) + '%'"
   ]
  },
  {
   "cell_type": "code",
   "execution_count": 17,
   "id": "7743c3f0",
   "metadata": {},
   "outputs": [
    {
     "data": {
      "text/plain": [
       "Center(C)                49.86%\n",
       "Left Side Center(LC)     15.66%\n",
       "Right Side Center(RC)    15.09%\n",
       "Left Side(L)              9.72%\n",
       "Right Side(R)              9.5%\n",
       "Back Court(BC)            0.18%\n",
       "Name: shot_zone, dtype: object"
      ]
     },
     "execution_count": 17,
     "metadata": {},
     "output_type": "execute_result"
    }
   ],
   "source": [
    "round(dataset[\"shot_zone\"].value_counts()/len(dataset) * 100, 2).astype(str) + '%'"
   ]
  },
  {
   "cell_type": "code",
   "execution_count": 18,
   "id": "1956223a",
   "metadata": {},
   "outputs": [
    {
     "data": {
      "text/plain": [
       "Touch < 2 Seconds    55.96%\n",
       "Touch 2-6 Seconds    30.48%\n",
       "Touch 6+ Seconds     13.56%\n",
       "Name: touch_time, dtype: object"
      ]
     },
     "execution_count": 18,
     "metadata": {},
     "output_type": "execute_result"
    }
   ],
   "source": [
    "round(dataset[\"touch_time\"].value_counts()/len(dataset) * 100, 2).astype(str) + '%'"
   ]
  },
  {
   "cell_type": "code",
   "execution_count": 19,
   "id": "61b59f66",
   "metadata": {},
   "outputs": [
    {
     "data": {
      "text/plain": [
       "False    55.1%\n",
       "True     44.9%\n",
       "Name: made, dtype: object"
      ]
     },
     "execution_count": 19,
     "metadata": {},
     "output_type": "execute_result"
    }
   ],
   "source": [
    "round(dataset[\"made\"].value_counts()/len(dataset) * 100, 2).astype(str) + '%'"
   ]
  },
  {
   "cell_type": "code",
   "execution_count": 20,
   "id": "a7d2ec18",
   "metadata": {},
   "outputs": [
    {
     "data": {
      "text/plain": [
       "Pascal Siakam       1.34%\n",
       "Fred VanVleet       1.21%\n",
       "Kyle Lowry          0.83%\n",
       "Chris Boucher       0.77%\n",
       "O.G. Anunoby        0.72%\n",
       "                    ...  \n",
       "Terance Mann        0.28%\n",
       "Matisse Thybulle    0.28%\n",
       "Nikola Vucevic      0.28%\n",
       "Serge Ibaka         0.28%\n",
       "DeAndre' Bembry     0.28%\n",
       "Name: player_name, Length: 220, dtype: object"
      ]
     },
     "execution_count": 20,
     "metadata": {},
     "output_type": "execute_result"
    }
   ],
   "source": [
    "round(dataset[\"player_name\"].value_counts()/len(dataset) * 100, 2).astype(str) + '%'"
   ]
  },
  {
   "cell_type": "code",
   "execution_count": 21,
   "id": "f176eef4",
   "metadata": {},
   "outputs": [
    {
     "data": {
      "text/plain": [
       "<AxesSubplot:ylabel='Density'>"
      ]
     },
     "execution_count": 21,
     "metadata": {},
     "output_type": "execute_result"
    },
    {
     "data": {
      "image/png": "[encoded data removed]",
      "text/plain": [
       "<Figure size 432x288 with 1 Axes>"
      ]
     },
     "metadata": {
      "needs_background": "light"
     },
     "output_type": "display_data"
    }
   ],
   "source": [
    "import seaborn as sns\n",
    "import matplotlib.pyplot as plt\n",
    "\n",
    "dataset[\"shot_distance\"].plot.density(color='green')"
   ]
  },
  {
   "cell_type": "code",
   "execution_count": 22,
   "id": "83f9af85",
   "metadata": {},
   "outputs": [
    {
     "data": {
      "text/plain": [
       "<AxesSubplot:ylabel='Density'>"
      ]
     },
     "execution_count": 22,
     "metadata": {},
     "output_type": "execute_result"
    },
    {
     "data": {
      "image/png": "[encoded data removed]",
      "text/plain": [
       "<Figure size 432x288 with 1 Axes>"
      ]
     },
     "metadata": {
      "needs_background": "light"
     },
     "output_type": "display_data"
    }
   ],
   "source": [
    "dataset[\"x\"].plot.density(color='green')"
   ]
  },
  {
   "cell_type": "code",
   "execution_count": 23,
   "id": "8a896bf6",
   "metadata": {},
   "outputs": [
    {
     "data": {
      "text/plain": [
       "<AxesSubplot:ylabel='Density'>"
      ]
     },
     "execution_count": 23,
     "metadata": {},
     "output_type": "execute_result"
    },
    {
     "data": {
      "image/png": "[encoded data removed]",
      "text/plain": [
       "<Figure size 432x288 with 1 Axes>"
      ]
     },
     "metadata": {
      "needs_background": "light"
     },
     "output_type": "display_data"
    }
   ],
   "source": [
    "dataset[\"y\"].plot.density(color='green')"
   ]
  },
  {
   "cell_type": "code",
   "execution_count": 24,
   "id": "b6ffd7a8",
   "metadata": {},
   "outputs": [
    {
     "data": {
      "text/plain": [
       "<AxesSubplot:ylabel='Density'>"
      ]
     },
     "execution_count": 24,
     "metadata": {},
     "output_type": "execute_result"
    },
    {
     "data": {
      "image/png": "[encoded data removed]",
      "text/plain": [
       "<Figure size 432x288 with 1 Axes>"
      ]
     },
     "metadata": {
      "needs_background": "light"
     },
     "output_type": "display_data"
    }
   ],
   "source": [
    "dataset[\"margin\"].plot.density(color='green')"
   ]
  },
  {
   "cell_type": "code",
   "execution_count": 27,
   "id": "25d5f785",
   "metadata": {},
   "outputs": [
    {
     "data": {
      "text/plain": [
       "71750"
      ]
     },
     "execution_count": 27,
     "metadata": {},
     "output_type": "execute_result"
    }
   ],
   "source": [
    "len(dataset)"
   ]
  },
  {
   "cell_type": "code",
   "execution_count": null,
   "id": "6c2519cf",
   "metadata": {},
   "outputs": [],
   "source": []
  }
 ],
 "metadata": {
  "kernelspec": {
   "display_name": "Python 3 (ipykernel)",
   "language": "python",
   "name": "python3"
  },
  "language_info": {
   "codemirror_mode": {
    "name": "ipython",
    "version": 3
   },
   "file_extension": ".py",
   "mimetype": "text/x-python",
   "name": "python",
   "nbconvert_exporter": "python",
   "pygments_lexer": "ipython3",
   "version": "3.9.12"
  }
 },
 "nbformat": 4,
 "nbformat_minor": 5
}
