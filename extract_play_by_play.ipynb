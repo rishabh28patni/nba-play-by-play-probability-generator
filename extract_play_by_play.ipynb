{
 "cells": [
  {
   "cell_type": "markdown",
   "id": "ffce751d",
   "metadata": {},
   "source": [
    "### Imports and Installs"
   ]
  },
  {
   "cell_type": "code",
   "execution_count": null,
   "id": "657fb4b8",
   "metadata": {},
   "outputs": [],
   "source": [
    "%%capture\n",
    "! pip install nba_api\n",
    "! pip install pandas\n",
    "! pip install requests"
   ]
  },
  {
   "cell_type": "code",
   "execution_count": 7,
   "id": "376e4a2e",
   "metadata": {},
   "outputs": [],
   "source": [
    "import json\n",
    "import nba_api\n",
    "import requests\n",
    "from nba_api.stats.endpoints import shotchartdetail\n",
    "import pandas as pd\n",
    "import time\n",
    "import os\n",
    "import glob"
   ]
  },
  {
   "cell_type": "code",
   "execution_count": 8,
   "id": "6097b3d0",
   "metadata": {},
   "outputs": [],
   "source": [
    "nba_season = '2020-21'\n",
    "season_type = 'Regular Season'\n",
    "path_API_download =  \"/Users/rishabhpatni/Desktop/Projects/nba-play-by-play-probability-generator/all_plays.csv\"\n",
    "path_defender_directory = \"/Users/rishabhpatni/Desktop/Projects/nba-play-by-play-probability-generator/Data/\""
   ]
  },
  {
   "cell_type": "markdown",
   "id": "2b6ee503",
   "metadata": {},
   "source": [
    "## Creating dataset\n",
    "Note that this data is for exclusively the 2020-21 nba season."
   ]
  },
  {
   "cell_type": "code",
   "execution_count": 9,
   "id": "89b80591",
   "metadata": {},
   "outputs": [],
   "source": [
    "# Get team ID based on team name\n",
    "def get_team_id(team):\n",
    "    for team1 in teams:\n",
    "        if team1['abbreviation'] == team:\n",
    "            return team1['teamId']\n",
    "    return -1\n",
    "\n",
    "# Get player ID based on player name\n",
    "def get_player_id(first, last):\n",
    "    for player in players:\n",
    "        if player['firstName'] == first and player['lastName'] == last:\n",
    "            return [player['playerId'], player[\"teamId\"]]\n",
    "    return -1"
   ]
  },
  {
   "cell_type": "code",
   "execution_count": 117,
   "id": "b6d6f02f",
   "metadata": {},
   "outputs": [],
   "source": [
    "class PlayByPlayNBAApiDataset():\n",
    "    def __init__(self, defender_distance_data = path_defender_directory, file_path = None):\n",
    "        self.data= []\n",
    "        self.len = 0\n",
    "        data = pd.DataFrame(columns = [\"GRID_TYPE\", \"gameid\", \"eventnum\", \"PLAYER_ID\",\n",
    "                                           \"PLAYER_NAME\", \"TEAM_ID\", \"TEAM_NAME\", \"PERIOD\", \"MINUTES_REMAINING\",\n",
    "                                           \"SECONDS_REMAINING\", \"SHOT_ZONE_AREA\", \"SHOT_ZONE_RANGE\", \"SHOT_DISTANCE\",\n",
    "                                           \"LOC_X\", \"LOC_Y\", \"SHOT_ATTEMPTED_FLAG\", \"SHOT_MADE_FLAG\", \"GAME_DATE\",\n",
    "                                           \"HTM\", \"VTM\"])\n",
    "        teams = json.loads(requests.get('https://raw.githubusercontent.com/bttmly/nba/master/data/teams.json').text)\n",
    "        players = json.loads(requests.get('https://raw.githubusercontent.com/bttmly/nba/master/data/players.json').text)\n",
    "        \n",
    "        if (file_path == None):\n",
    "            counter = 0\n",
    "            for player in players: \n",
    "                counter +=1;\n",
    "                if counter%10 == 0:\n",
    "                    time.sleep(15)\n",
    "\n",
    "                if counter%50 == 0:\n",
    "                    time.sleep(45)\n",
    "                    print(f\"{counter} player's shot data has been parsed through.\")\n",
    "\n",
    "                if (player[\"teamId\"] == 0):\n",
    "                    continue\n",
    "\n",
    "                response = shotchartdetail.ShotChartDetail(\n",
    "                    context_measure_simple = 'FGA',\n",
    "                    team_id=player[\"teamId\"],\n",
    "                    player_id=player[\"playerId\"],\n",
    "                    season_nullable=nba_season,\n",
    "                    season_type_all_star=season_type).get_data_frames()[0]\n",
    "\n",
    "                if response.shape[0] < 200: \n",
    "                    continue\n",
    "\n",
    "                else:\n",
    "                    data = pd.concat([data, response], ignore_index = True)\n",
    "            pd.to_csv('final_values.csv')\n",
    "        else:\n",
    "            data = pd.read_csv(file_path)[[\"GRID_TYPE\", \"GAME_ID\", \"GAME_EVENT_ID\", \"PLAYER_ID\",\n",
    "                                           \"PLAYER_NAME\", \"TEAM_ID\", \"TEAM_NAME\", \"PERIOD\", \"MINUTES_REMAINING\",\n",
    "                                           \"SECONDS_REMAINING\", \"SHOT_ZONE_AREA\", \"SHOT_ZONE_RANGE\", \"SHOT_DISTANCE\",\n",
    "                                           \"LOC_X\", \"LOC_Y\", \"SHOT_ATTEMPTED_FLAG\", \"SHOT_MADE_FLAG\", \"GAME_DATE\",\n",
    "                                           \"HTM\", \"VTM\"]]\n",
    "            data.columns = [\"GRID_TYPE\", \"gameid\", \"eventnum\", \"PLAYER_ID\",\n",
    "                                           \"PLAYER_NAME\", \"TEAM_ID\", \"TEAM_NAME\", \"PERIOD\", \"MINUTES_REMAINING\",\n",
    "                                           \"SECONDS_REMAINING\", \"SHOT_ZONE_AREA\", \"SHOT_ZONE_RANGE\", \"SHOT_DISTANCE\",\n",
    "                                           \"x\", \"y\", \"SHOT_ATTEMPTED_FLAG\", \"SHOT_MADE_FLAG\", \"GAME_DATE\",\n",
    "                                           \"HTM\", \"VTM\"]\n",
    "        \n",
    "        \n",
    "        files = glob.glob(os.path.join(defender_distance_data + \"/*.csv\"))\n",
    "        # joining files with concat and read_csv\n",
    "        defender_distance_data = pd.concat(map(pd.read_csv, files), ignore_index=True)\n",
    "        defender_distance_data[\"shot_clock\"] = 24 - (defender_distance_data[\"possession_start_time\"] - defender_distance_data[\"time\"])\n",
    "        defender_distance_data = defender_distance_data[[\"gameid\", \"eventnum\", \"date\", \"player\", \n",
    "                                                         \"team\", \"opponent\", \"period\", \"time\", \n",
    "                                                         \"x\", \"y\", \"dribble_range\", \n",
    "                                                         \"touch_time\", \"closest_def_dist\", \"value\", \"made\", \n",
    "                                                         \"margin\", \"assisted\", \"assist_player\" ,\"shottype\", \"and1\"]]\n",
    "        \n",
    "        defender_distance_data[\"time\"] = defender_distance_data[\"time\"].apply(lambda x: time.strftime(\"%M:%S\", time.gmtime(x)))\n",
    "\n",
    "        data = data.merge(defender_distance_data, on = [\"gameid\", \"eventnum\",\"x\", \"y\"], how='left')\n",
    "        data = data[[\"PLAYER_NAME\", \"TEAM_NAME\", \"PERIOD\", \"time\", \"SHOT_ZONE_AREA\", \"SHOT_DISTANCE\",\"opponent\", \"x\", \"y\", \"dribble_range\", \"touch_time\", \"closest_def_dist\", \"value\", \"made\", \"margin\", \"shottype\"]]\n",
    "        data = data.dropna()\n",
    "        data.columns = [\"player_name\", \"team_name\", \"period\", \"time\", \"shot_zone\", \"shot_distance\",\"opponent\", \"x\", \"y\", \"dribble_range\", \"touch_time\", \"closest_def_dist\", \"value\", \"made\", \"margin\" ,\"shot_type\"]\n",
    "        self.data = data\n",
    "        self.len = data.shape[0]\n",
    "\n",
    "        \n",
    "    def __len__(self):\n",
    "        return self.len\n"
   ]
  },
  {
   "cell_type": "markdown",
   "id": "47f44b7c",
   "metadata": {},
   "source": [
    "## Exploratory Data Analysis"
   ]
  },
  {
   "cell_type": "code",
   "execution_count": 101,
   "id": "33db2af4",
   "metadata": {},
   "outputs": [],
   "source": [
    "dataset = PlayByPlayNBAApiDataset(file_path = path_API_download).data"
   ]
  },
  {
   "cell_type": "code",
   "execution_count": 102,
   "id": "d9805f02",
   "metadata": {},
   "outputs": [
    {
     "data": {
      "text/html": [
       "<div>\n",
       "<style scoped>\n",
       "    .dataframe tbody tr th:only-of-type {\n",
       "        vertical-align: middle;\n",
       "    }\n",
       "\n",
       "    .dataframe tbody tr th {\n",
       "        vertical-align: top;\n",
       "    }\n",
       "\n",
       "    .dataframe thead th {\n",
       "        text-align: right;\n",
       "    }\n",
       "</style>\n",
       "<table border=\"1\" class=\"dataframe\">\n",
       "  <thead>\n",
       "    <tr style=\"text-align: right;\">\n",
       "      <th></th>\n",
       "      <th>player_name</th>\n",
       "      <th>team_name</th>\n",
       "      <th>period</th>\n",
       "      <th>time</th>\n",
       "      <th>shot_zone</th>\n",
       "      <th>shot_distance</th>\n",
       "      <th>opponent</th>\n",
       "      <th>x</th>\n",
       "      <th>y</th>\n",
       "      <th>dribble_range</th>\n",
       "      <th>touch_time</th>\n",
       "      <th>closest_def_dist</th>\n",
       "      <th>value</th>\n",
       "      <th>made</th>\n",
       "      <th>margin</th>\n",
       "      <th>shot_type</th>\n",
       "    </tr>\n",
       "  </thead>\n",
       "  <tbody>\n",
       "    <tr>\n",
       "      <th>0</th>\n",
       "      <td>Precious Achiuwa</td>\n",
       "      <td>Miami Heat</td>\n",
       "      <td>1</td>\n",
       "      <td>03:40</td>\n",
       "      <td>Center(C)</td>\n",
       "      <td>1</td>\n",
       "      <td>NOP</td>\n",
       "      <td>11</td>\n",
       "      <td>16</td>\n",
       "      <td>0 Dribbles</td>\n",
       "      <td>Touch &lt; 2 Seconds</td>\n",
       "      <td>0-2 Feet - Very Tight</td>\n",
       "      <td>2.0</td>\n",
       "      <td>True</td>\n",
       "      <td>-5.0</td>\n",
       "      <td>AtRim</td>\n",
       "    </tr>\n",
       "    <tr>\n",
       "      <th>1</th>\n",
       "      <td>Precious Achiuwa</td>\n",
       "      <td>Miami Heat</td>\n",
       "      <td>2</td>\n",
       "      <td>06:04</td>\n",
       "      <td>Center(C)</td>\n",
       "      <td>5</td>\n",
       "      <td>NOP</td>\n",
       "      <td>55</td>\n",
       "      <td>16</td>\n",
       "      <td>1 Dribble</td>\n",
       "      <td>Touch &lt; 2 Seconds</td>\n",
       "      <td>2-4 Feet - Tight</td>\n",
       "      <td>2.0</td>\n",
       "      <td>False</td>\n",
       "      <td>20.0</td>\n",
       "      <td>ShortMidRange</td>\n",
       "    </tr>\n",
       "    <tr>\n",
       "      <th>2</th>\n",
       "      <td>Precious Achiuwa</td>\n",
       "      <td>Miami Heat</td>\n",
       "      <td>3</td>\n",
       "      <td>06:01</td>\n",
       "      <td>Center(C)</td>\n",
       "      <td>4</td>\n",
       "      <td>NOP</td>\n",
       "      <td>40</td>\n",
       "      <td>-9</td>\n",
       "      <td>1 Dribble</td>\n",
       "      <td>Touch 2-6 Seconds</td>\n",
       "      <td>2-4 Feet - Tight</td>\n",
       "      <td>2.0</td>\n",
       "      <td>False</td>\n",
       "      <td>13.0</td>\n",
       "      <td>ShortMidRange</td>\n",
       "    </tr>\n",
       "    <tr>\n",
       "      <th>3</th>\n",
       "      <td>Precious Achiuwa</td>\n",
       "      <td>Miami Heat</td>\n",
       "      <td>3</td>\n",
       "      <td>05:32</td>\n",
       "      <td>Center(C)</td>\n",
       "      <td>3</td>\n",
       "      <td>NOP</td>\n",
       "      <td>-29</td>\n",
       "      <td>12</td>\n",
       "      <td>2 Dribbles</td>\n",
       "      <td>Touch 2-6 Seconds</td>\n",
       "      <td>2-4 Feet - Tight</td>\n",
       "      <td>2.0</td>\n",
       "      <td>True</td>\n",
       "      <td>13.0</td>\n",
       "      <td>AtRim</td>\n",
       "    </tr>\n",
       "    <tr>\n",
       "      <th>4</th>\n",
       "      <td>Precious Achiuwa</td>\n",
       "      <td>Miami Heat</td>\n",
       "      <td>3</td>\n",
       "      <td>04:59</td>\n",
       "      <td>Center(C)</td>\n",
       "      <td>2</td>\n",
       "      <td>NOP</td>\n",
       "      <td>15</td>\n",
       "      <td>17</td>\n",
       "      <td>0 Dribbles</td>\n",
       "      <td>Touch &lt; 2 Seconds</td>\n",
       "      <td>4-6 Feet - Open</td>\n",
       "      <td>2.0</td>\n",
       "      <td>True</td>\n",
       "      <td>13.0</td>\n",
       "      <td>AtRim</td>\n",
       "    </tr>\n",
       "  </tbody>\n",
       "</table>\n",
       "</div>"
      ],
      "text/plain": [
       "        player_name   team_name  period   time  shot_zone  shot_distance  \\\n",
       "0  Precious Achiuwa  Miami Heat       1  03:40  Center(C)              1   \n",
       "1  Precious Achiuwa  Miami Heat       2  06:04  Center(C)              5   \n",
       "2  Precious Achiuwa  Miami Heat       3  06:01  Center(C)              4   \n",
       "3  Precious Achiuwa  Miami Heat       3  05:32  Center(C)              3   \n",
       "4  Precious Achiuwa  Miami Heat       3  04:59  Center(C)              2   \n",
       "\n",
       "  opponent   x   y dribble_range         touch_time       closest_def_dist  \\\n",
       "0      NOP  11  16    0 Dribbles  Touch < 2 Seconds  0-2 Feet - Very Tight   \n",
       "1      NOP  55  16     1 Dribble  Touch < 2 Seconds       2-4 Feet - Tight   \n",
       "2      NOP  40  -9     1 Dribble  Touch 2-6 Seconds       2-4 Feet - Tight   \n",
       "3      NOP -29  12    2 Dribbles  Touch 2-6 Seconds       2-4 Feet - Tight   \n",
       "4      NOP  15  17    0 Dribbles  Touch < 2 Seconds        4-6 Feet - Open   \n",
       "\n",
       "   value   made  margin      shot_type  \n",
       "0    2.0   True    -5.0          AtRim  \n",
       "1    2.0  False    20.0  ShortMidRange  \n",
       "2    2.0  False    13.0  ShortMidRange  \n",
       "3    2.0   True    13.0          AtRim  \n",
       "4    2.0   True    13.0          AtRim  "
      ]
     },
     "execution_count": 102,
     "metadata": {},
     "output_type": "execute_result"
    }
   ],
   "source": [
    "dataset.head(5)"
   ]
  },
  {
   "cell_type": "code",
   "execution_count": 103,
   "id": "1155cb97",
   "metadata": {},
   "outputs": [
    {
     "data": {
      "text/plain": [
       "2-4 Feet - Tight         35.59%\n",
       "4-6 Feet - Open          30.31%\n",
       "6+ Feet - Wide Open       27.5%\n",
       "0-2 Feet - Very Tight      6.6%\n",
       "Name: closest_def_dist, dtype: object"
      ]
     },
     "execution_count": 103,
     "metadata": {},
     "output_type": "execute_result"
    }
   ],
   "source": [
    "age = round(sum(dataset[\"closest_def_dist\"].value_counts()/len(dataset) * 100), 2)\n",
    "round(dataset[\"closest_def_dist\"].value_counts()/len(dataset) * 100, 2).astype(str) + '%'\n"
   ]
  },
  {
   "cell_type": "code",
   "execution_count": 104,
   "id": "98f4c4ee",
   "metadata": {},
   "outputs": [
    {
     "data": {
      "text/plain": [
       "'Hence, approximately 100.0% of all shots have a non-null value for closest defender distance'"
      ]
     },
     "execution_count": 104,
     "metadata": {},
     "output_type": "execute_result"
    }
   ],
   "source": [
    "f\"Hence, approximately {age}% of all shots have a non-null value for closest defender distance\""
   ]
  },
  {
   "cell_type": "code",
   "execution_count": 105,
   "id": "6a59d0f8",
   "metadata": {},
   "outputs": [
    {
     "data": {
      "text/plain": [
       "2.0    51.38%\n",
       "3.0    48.62%\n",
       "Name: value, dtype: object"
      ]
     },
     "execution_count": 105,
     "metadata": {},
     "output_type": "execute_result"
    }
   ],
   "source": [
    "round(dataset[\"value\"].value_counts()/len(dataset) * 100, 2).astype(str) + '%'"
   ]
  },
  {
   "cell_type": "code",
   "execution_count": 106,
   "id": "31a0ba54",
   "metadata": {},
   "outputs": [
    {
     "data": {
      "text/plain": [
       "0 Dribbles      52.49%\n",
       "3-6 Dribbles    16.52%\n",
       "1 Dribble       11.02%\n",
       "2 Dribbles      10.21%\n",
       "7+ Dribbles      9.76%\n",
       "Name: dribble_range, dtype: object"
      ]
     },
     "execution_count": 106,
     "metadata": {},
     "output_type": "execute_result"
    }
   ],
   "source": [
    "round(dataset[\"dribble_range\"].value_counts()/len(dataset) * 100, 2).astype(str) + '%'"
   ]
  },
  {
   "cell_type": "code",
   "execution_count": 107,
   "id": "0effa7af",
   "metadata": {},
   "outputs": [
    {
     "data": {
      "text/plain": [
       "Arc3             36.06%\n",
       "AtRim            25.38%\n",
       "ShortMidRange    17.59%\n",
       "Corner3          12.56%\n",
       "LongMidRange      8.42%\n",
       "Name: shot_type, dtype: object"
      ]
     },
     "execution_count": 107,
     "metadata": {},
     "output_type": "execute_result"
    }
   ],
   "source": [
    "round(dataset[\"shot_type\"].value_counts()/len(dataset) * 100, 2).astype(str) + '%'"
   ]
  },
  {
   "cell_type": "code",
   "execution_count": 108,
   "id": "a01157f9",
   "metadata": {},
   "outputs": [
    {
     "data": {
      "text/plain": [
       "Center(C)                50.08%\n",
       "Right Side Center(RC)    15.07%\n",
       "Left Side Center(LC)     15.06%\n",
       "Right Side(R)             9.91%\n",
       "Left Side(L)              9.68%\n",
       "Back Court(BC)             0.2%\n",
       "Name: shot_zone, dtype: object"
      ]
     },
     "execution_count": 108,
     "metadata": {},
     "output_type": "execute_result"
    }
   ],
   "source": [
    "round(dataset[\"shot_zone\"].value_counts()/len(dataset) * 100, 2).astype(str) + '%'"
   ]
  },
  {
   "cell_type": "code",
   "execution_count": 109,
   "id": "8a9f1dde",
   "metadata": {},
   "outputs": [
    {
     "data": {
      "text/plain": [
       "Touch < 2 Seconds     58.0%\n",
       "Touch 2-6 Seconds    29.57%\n",
       "Touch 6+ Seconds     12.42%\n",
       "Name: touch_time, dtype: object"
      ]
     },
     "execution_count": 109,
     "metadata": {},
     "output_type": "execute_result"
    }
   ],
   "source": [
    "round(dataset[\"touch_time\"].value_counts()/len(dataset) * 100, 2).astype(str) + '%'"
   ]
  },
  {
   "cell_type": "code",
   "execution_count": 110,
   "id": "47c0ffcb",
   "metadata": {},
   "outputs": [
    {
     "data": {
      "text/plain": [
       "False    54.52%\n",
       "True     45.48%\n",
       "Name: made, dtype: object"
      ]
     },
     "execution_count": 110,
     "metadata": {},
     "output_type": "execute_result"
    }
   ],
   "source": [
    "round(dataset[\"made\"].value_counts()/len(dataset) * 100, 2).astype(str) + '%'"
   ]
  },
  {
   "cell_type": "code",
   "execution_count": 116,
   "id": "b29bab45",
   "metadata": {},
   "outputs": [
    {
     "data": {
      "text/plain": [
       "Kyle Lowry            1.16%\n",
       "Chris Boucher         1.08%\n",
       "O.G. Anunoby          1.01%\n",
       "Bojan Bogdanovic      0.95%\n",
       "Jordan Clarkson       0.94%\n",
       "                      ...  \n",
       "Precious Achiuwa      0.24%\n",
       "Moses Brown           0.23%\n",
       "Killian Hayes         0.23%\n",
       "Wendell Carter Jr.    0.22%\n",
       "Drew Eubanks          0.22%\n",
       "Name: player_name, Length: 180, dtype: object"
      ]
     },
     "execution_count": 116,
     "metadata": {},
     "output_type": "execute_result"
    }
   ],
   "source": [
    "round(dataset[\"player_name\"].value_counts()/len(dataset) * 100, 2).astype(str) + '%'"
   ]
  },
  {
   "cell_type": "code",
   "execution_count": 111,
   "id": "c7a1f334",
   "metadata": {},
   "outputs": [
    {
     "data": {
      "text/plain": [
       "<AxesSubplot:ylabel='Density'>"
      ]
     },
     "execution_count": 111,
     "metadata": {},
     "output_type": "execute_result"
    },
    {
     "data": {
      "image/png": "[encoded data removed]",
      "text/plain": [
       "<Figure size 432x288 with 1 Axes>"
      ]
     },
     "metadata": {
      "needs_background": "light"
     },
     "output_type": "display_data"
    }
   ],
   "source": [
    "import seaborn as sns\n",
    "import matplotlib.pyplot as plt\n",
    "\n",
    "dataset[\"shot_distance\"].plot.density(color='green')"
   ]
  },
  {
   "cell_type": "code",
   "execution_count": 112,
   "id": "24ca425e",
   "metadata": {},
   "outputs": [
    {
     "data": {
      "text/plain": [
       "<AxesSubplot:ylabel='Density'>"
      ]
     },
     "execution_count": 112,
     "metadata": {},
     "output_type": "execute_result"
    },
    {
     "data": {
      "image/png": "[encoded data removed]",
      "text/plain": [
       "<Figure size 432x288 with 1 Axes>"
      ]
     },
     "metadata": {
      "needs_background": "light"
     },
     "output_type": "display_data"
    }
   ],
   "source": [
    "dataset[\"x\"].plot.density(color='green')"
   ]
  },
  {
   "cell_type": "code",
   "execution_count": 113,
   "id": "f7cc2c18",
   "metadata": {},
   "outputs": [
    {
     "data": {
      "text/plain": [
       "<AxesSubplot:ylabel='Density'>"
      ]
     },
     "execution_count": 113,
     "metadata": {},
     "output_type": "execute_result"
    },
    {
     "data": {
      "image/png": "[encoded data removed]",
      "text/plain": [
       "<Figure size 432x288 with 1 Axes>"
      ]
     },
     "metadata": {
      "needs_background": "light"
     },
     "output_type": "display_data"
    }
   ],
   "source": [
    "dataset[\"y\"].plot.density(color='green')"
   ]
  },
  {
   "cell_type": "code",
   "execution_count": 114,
   "id": "55d9dba3",
   "metadata": {},
   "outputs": [
    {
     "data": {
      "text/plain": [
       "<AxesSubplot:ylabel='Density'>"
      ]
     },
     "execution_count": 114,
     "metadata": {},
     "output_type": "execute_result"
    },
    {
     "data": {
      "image/png": "[encoded data removed]",
      "text/plain": [
       "<Figure size 432x288 with 1 Axes>"
      ]
     },
     "metadata": {
      "needs_background": "light"
     },
     "output_type": "display_data"
    }
   ],
   "source": [
    "dataset[\"margin\"].plot.density(color='green')"
   ]
  },
  {
   "cell_type": "code",
   "execution_count": 115,
   "id": "4d08e1d6",
   "metadata": {},
   "outputs": [
    {
     "data": {
      "text/plain": [
       "51418"
      ]
     },
     "execution_count": 115,
     "metadata": {},
     "output_type": "execute_result"
    }
   ],
   "source": [
    "len(dataset.dropna())"
   ]
  },
  {
   "cell_type": "code",
   "execution_count": null,
   "id": "dad5fa58",
   "metadata": {},
   "outputs": [],
   "source": []
  }
 ],
 "metadata": {
  "kernelspec": {
   "display_name": "Python 3 (ipykernel)",
   "language": "python",
   "name": "python3"
  },
  "language_info": {
   "codemirror_mode": {
    "name": "ipython",
    "version": 3
   },
   "file_extension": ".py",
   "mimetype": "text/x-python",
   "name": "python",
   "nbconvert_exporter": "python",
   "pygments_lexer": "ipython3",
   "version": "3.9.12"
  }
 },
 "nbformat": 4,
 "nbformat_minor": 5
}
