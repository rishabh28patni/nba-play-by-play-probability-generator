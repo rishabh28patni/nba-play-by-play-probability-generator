{
 "cells": [
  {
   "cell_type": "code",
   "execution_count": 1,
   "id": "deafd48b",
   "metadata": {},
   "outputs": [],
   "source": [
    "from stats_nba_web_scrapper import * \n",
    "from patsy import dmatrices\n",
    "import statsmodels.api as sm\n",
    "from statsmodels.stats.outliers_influence import variance_inflation_factor\n",
    "from sklearn.linear_model import LogisticRegression\n",
    "from sklearn.metrics import classification_report"
   ]
  },
  {
   "cell_type": "code",
   "execution_count": 2,
   "id": "27bec30f",
   "metadata": {},
   "outputs": [],
   "source": [
    "path_API_download =  \"/Users/rishabhpatni/Desktop/Projects/nba-play-by-play-probability-generator/final_values.csv\"\n",
    "path_defender_directory = \"/Users/rishabhpatni/Desktop/Projects/nba-play-by-play-probability-generator/Data/\""
   ]
  },
  {
   "cell_type": "code",
   "execution_count": 3,
   "id": "3543f5f3",
   "metadata": {},
   "outputs": [
    {
     "name": "stdout",
     "output_type": "stream",
     "text": [
      "177818\n"
     ]
    }
   ],
   "source": [
    "dataset = PlayByPlayNBAApiDataset(defender_distance_data = path_defender_directory ,file_path = path_API_download).data.reset_index(drop=True)"
   ]
  },
  {
   "cell_type": "markdown",
   "id": "f2d6d39e",
   "metadata": {},
   "source": [
    "## Modelling"
   ]
  },
  {
   "cell_type": "code",
   "execution_count": 4,
   "id": "7a9c89f5",
   "metadata": {},
   "outputs": [
    {
     "data": {
      "text/html": [
       "<div>\n",
       "<style scoped>\n",
       "    .dataframe tbody tr th:only-of-type {\n",
       "        vertical-align: middle;\n",
       "    }\n",
       "\n",
       "    .dataframe tbody tr th {\n",
       "        vertical-align: top;\n",
       "    }\n",
       "\n",
       "    .dataframe thead th {\n",
       "        text-align: right;\n",
       "    }\n",
       "</style>\n",
       "<table border=\"1\" class=\"dataframe\">\n",
       "  <thead>\n",
       "    <tr style=\"text-align: right;\">\n",
       "      <th></th>\n",
       "      <th>player_name</th>\n",
       "      <th>team_name</th>\n",
       "      <th>period</th>\n",
       "      <th>time</th>\n",
       "      <th>shot_zone</th>\n",
       "      <th>shot_distance</th>\n",
       "      <th>opponent</th>\n",
       "      <th>x</th>\n",
       "      <th>y</th>\n",
       "      <th>dribble_range</th>\n",
       "      <th>touch_time</th>\n",
       "      <th>closest_def_dist</th>\n",
       "      <th>value</th>\n",
       "      <th>made</th>\n",
       "      <th>margin</th>\n",
       "      <th>shot_type</th>\n",
       "    </tr>\n",
       "  </thead>\n",
       "  <tbody>\n",
       "    <tr>\n",
       "      <th>0</th>\n",
       "      <td>Bam Adebayo</td>\n",
       "      <td>Miami Heat</td>\n",
       "      <td>1</td>\n",
       "      <td>10.0</td>\n",
       "      <td>Center(C)</td>\n",
       "      <td>17</td>\n",
       "      <td>NOP</td>\n",
       "      <td>-14</td>\n",
       "      <td>171</td>\n",
       "      <td>0 Dribbles</td>\n",
       "      <td>Touch &lt; 2 Seconds</td>\n",
       "      <td>6+ Feet - Wide Open</td>\n",
       "      <td>2.0</td>\n",
       "      <td>False</td>\n",
       "      <td>0.0</td>\n",
       "      <td>LongMidRange</td>\n",
       "    </tr>\n",
       "    <tr>\n",
       "      <th>1</th>\n",
       "      <td>Bam Adebayo</td>\n",
       "      <td>Miami Heat</td>\n",
       "      <td>1</td>\n",
       "      <td>8.0</td>\n",
       "      <td>Center(C)</td>\n",
       "      <td>6</td>\n",
       "      <td>NOP</td>\n",
       "      <td>-57</td>\n",
       "      <td>34</td>\n",
       "      <td>0 Dribbles</td>\n",
       "      <td>Touch &lt; 2 Seconds</td>\n",
       "      <td>2-4 Feet - Tight</td>\n",
       "      <td>2.0</td>\n",
       "      <td>False</td>\n",
       "      <td>-4.0</td>\n",
       "      <td>ShortMidRange</td>\n",
       "    </tr>\n",
       "  </tbody>\n",
       "</table>\n",
       "</div>"
      ],
      "text/plain": [
       "   player_name   team_name  period  time  shot_zone  shot_distance opponent  \\\n",
       "0  Bam Adebayo  Miami Heat       1  10.0  Center(C)             17      NOP   \n",
       "1  Bam Adebayo  Miami Heat       1   8.0  Center(C)              6      NOP   \n",
       "\n",
       "    x    y dribble_range         touch_time     closest_def_dist  value  \\\n",
       "0 -14  171    0 Dribbles  Touch < 2 Seconds  6+ Feet - Wide Open    2.0   \n",
       "1 -57   34    0 Dribbles  Touch < 2 Seconds     2-4 Feet - Tight    2.0   \n",
       "\n",
       "    made  margin      shot_type  \n",
       "0  False     0.0   LongMidRange  \n",
       "1  False    -4.0  ShortMidRange  "
      ]
     },
     "execution_count": 4,
     "metadata": {},
     "output_type": "execute_result"
    }
   ],
   "source": [
    "dataset.head(2)"
   ]
  },
  {
   "cell_type": "code",
   "execution_count": 5,
   "id": "984011fb",
   "metadata": {},
   "outputs": [],
   "source": [
    "three_flag = pd.get_dummies(dataset[\"value\"].apply(lambda x: 1 if x == 2.0 else 0), drop_first = True)\n",
    "player_name = pd.get_dummies(dataset[\"player_name\"], drop_first=True)\n",
    "team_name = pd.get_dummies(dataset[\"team_name\"], drop_first=True)\n",
    "shot_zone = pd.get_dummies(dataset[\"shot_zone\"], drop_first=True)\n",
    "opponent = pd.get_dummies(dataset[\"opponent\"], drop_first=True)\n",
    "dribble_range = pd.get_dummies(dataset[\"dribble_range\"], drop_first=True)\n",
    "touch_time = pd.get_dummies(dataset[\"touch_time\"], drop_first=True)\n",
    "closest_def_dist = pd.get_dummies(dataset[\"closest_def_dist\"], drop_first=True)\n",
    "shot_type = pd.get_dummies(dataset[\"shot_type\"], drop_first=True)\n",
    "\n",
    "\n",
    "dataset.drop([\"player_name\", \"team_name\", \"shot_zone\", \"opponent\", \n",
    "              \"dribble_range\", \"touch_time\", \"closest_def_dist\", \"value\", \"shot_type\"], axis = 1, inplace = True)\n",
    "\n",
    "dataset = pd.concat([dataset, player_name, team_name, shot_zone, opponent, \n",
    "              dribble_range, touch_time, closest_def_dist, three_flag, shot_type], axis =1)\n",
    "dataset = dataset.apply(pd.to_numeric)"
   ]
  },
  {
   "cell_type": "code",
   "execution_count": 6,
   "id": "ecc566dd",
   "metadata": {},
   "outputs": [],
   "source": [
    "logistic_instance = LogisticRegression()"
   ]
  },
  {
   "cell_type": "code",
   "execution_count": 7,
   "id": "49647d08",
   "metadata": {},
   "outputs": [
    {
     "data": {
      "text/plain": [
       "RangeIndex(start=0, stop=71750, step=1)"
      ]
     },
     "execution_count": 7,
     "metadata": {},
     "output_type": "execute_result"
    }
   ],
   "source": [
    "dataset.index"
   ]
  },
  {
   "cell_type": "code",
   "execution_count": 8,
   "id": "6bdf7c11",
   "metadata": {},
   "outputs": [],
   "source": [
    "from sklearn.model_selection import train_test_split\n",
    "x_train, x_test, y_train, y_test = train_test_split(dataset.drop(\"made\", axis = 1),dataset.made,  test_size=0.25, random_state=0)"
   ]
  },
  {
   "cell_type": "code",
   "execution_count": 14,
   "id": "21011958",
   "metadata": {},
   "outputs": [
    {
     "name": "stdout",
     "output_type": "stream",
     "text": [
      "              precision    recall  f1-score   support\n",
      "\n",
      "       False       0.61      0.84      0.70      9866\n",
      "        True       0.63      0.33      0.43      8072\n",
      "\n",
      "    accuracy                           0.61     17938\n",
      "   macro avg       0.62      0.58      0.57     17938\n",
      "weighted avg       0.61      0.61      0.58     17938\n",
      "\n"
     ]
    }
   ],
   "source": [
    "logistic_instance.fit(x_train, y_train)\n",
    "prediction_model = logistic_instance.predict(x_test)\n",
    "print(classification_report(y_test, prediction_model))"
   ]
  },
  {
   "cell_type": "code",
   "execution_count": 28,
   "id": "bcc83755",
   "metadata": {},
   "outputs": [
    {
     "name": "stdout",
     "output_type": "stream",
     "text": [
      "177818\n"
     ]
    }
   ],
   "source": [
    "dataset_ref = PlayByPlayNBAApiDataset(defender_distance_data = path_defender_directory ,file_path = path_API_download).data.reset_index(drop=True)"
   ]
  },
  {
   "cell_type": "code",
   "execution_count": 56,
   "id": "695e5bef",
   "metadata": {},
   "outputs": [
    {
     "name": "stderr",
     "output_type": "stream",
     "text": [
      "/Users/rishabhpatni/opt/anaconda3/lib/python3.9/site-packages/sklearn/utils/validation.py:1688: FutureWarning: Feature names only support names that are all strings. Got feature names with dtypes: ['int', 'str']. An error will be raised in 1.2.\n",
      "  warnings.warn(\n",
      "/var/folders/7q/y6lh4q3x7l986nswgbdchpjw0000gn/T/ipykernel_2026/498356997.py:2: SettingWithCopyWarning: \n",
      "A value is trying to be set on a copy of a slice from a DataFrame.\n",
      "Try using .loc[row_indexer,col_indexer] = value instead\n",
      "\n",
      "See the caveats in the documentation: https://pandas.pydata.org/pandas-docs/stable/user_guide/indexing.html#returning-a-view-versus-a-copy\n",
      "  dataset_ref[\"prob\"] = logistic_instance.predict_proba(x_test.sort_index())[:,1]\n"
     ]
    },
    {
     "data": {
      "text/html": [
       "<div>\n",
       "<style scoped>\n",
       "    .dataframe tbody tr th:only-of-type {\n",
       "        vertical-align: middle;\n",
       "    }\n",
       "\n",
       "    .dataframe tbody tr th {\n",
       "        vertical-align: top;\n",
       "    }\n",
       "\n",
       "    .dataframe thead th {\n",
       "        text-align: right;\n",
       "    }\n",
       "</style>\n",
       "<table border=\"1\" class=\"dataframe\">\n",
       "  <thead>\n",
       "    <tr style=\"text-align: right;\">\n",
       "      <th></th>\n",
       "      <th>player_name</th>\n",
       "      <th>team_name</th>\n",
       "      <th>period</th>\n",
       "      <th>time</th>\n",
       "      <th>shot_zone</th>\n",
       "      <th>shot_distance</th>\n",
       "      <th>opponent</th>\n",
       "      <th>x</th>\n",
       "      <th>y</th>\n",
       "      <th>dribble_range</th>\n",
       "      <th>touch_time</th>\n",
       "      <th>closest_def_dist</th>\n",
       "      <th>value</th>\n",
       "      <th>made</th>\n",
       "      <th>margin</th>\n",
       "      <th>shot_type</th>\n",
       "      <th>prob</th>\n",
       "    </tr>\n",
       "  </thead>\n",
       "  <tbody>\n",
       "    <tr>\n",
       "      <th>3</th>\n",
       "      <td>Bam Adebayo</td>\n",
       "      <td>Miami Heat</td>\n",
       "      <td>2</td>\n",
       "      <td>10.0</td>\n",
       "      <td>Center(C)</td>\n",
       "      <td>2</td>\n",
       "      <td>NOP</td>\n",
       "      <td>-13</td>\n",
       "      <td>16</td>\n",
       "      <td>0 Dribbles</td>\n",
       "      <td>Touch &lt; 2 Seconds</td>\n",
       "      <td>2-4 Feet - Tight</td>\n",
       "      <td>2.0</td>\n",
       "      <td>True</td>\n",
       "      <td>6.0</td>\n",
       "      <td>AtRim</td>\n",
       "      <td>0.637674</td>\n",
       "    </tr>\n",
       "    <tr>\n",
       "      <th>14</th>\n",
       "      <td>Bam Adebayo</td>\n",
       "      <td>Miami Heat</td>\n",
       "      <td>1</td>\n",
       "      <td>9.0</td>\n",
       "      <td>Right Side Center(RC)</td>\n",
       "      <td>16</td>\n",
       "      <td>MIL</td>\n",
       "      <td>69</td>\n",
       "      <td>147</td>\n",
       "      <td>0 Dribbles</td>\n",
       "      <td>Touch &lt; 2 Seconds</td>\n",
       "      <td>6+ Feet - Wide Open</td>\n",
       "      <td>2.0</td>\n",
       "      <td>False</td>\n",
       "      <td>1.0</td>\n",
       "      <td>LongMidRange</td>\n",
       "      <td>0.488386</td>\n",
       "    </tr>\n",
       "    <tr>\n",
       "      <th>17</th>\n",
       "      <td>Bam Adebayo</td>\n",
       "      <td>Miami Heat</td>\n",
       "      <td>3</td>\n",
       "      <td>7.0</td>\n",
       "      <td>Center(C)</td>\n",
       "      <td>15</td>\n",
       "      <td>MIL</td>\n",
       "      <td>30</td>\n",
       "      <td>151</td>\n",
       "      <td>0 Dribbles</td>\n",
       "      <td>Touch &lt; 2 Seconds</td>\n",
       "      <td>6+ Feet - Wide Open</td>\n",
       "      <td>2.0</td>\n",
       "      <td>True</td>\n",
       "      <td>-14.0</td>\n",
       "      <td>LongMidRange</td>\n",
       "      <td>0.494798</td>\n",
       "    </tr>\n",
       "    <tr>\n",
       "      <th>18</th>\n",
       "      <td>Bam Adebayo</td>\n",
       "      <td>Miami Heat</td>\n",
       "      <td>4</td>\n",
       "      <td>7.0</td>\n",
       "      <td>Center(C)</td>\n",
       "      <td>2</td>\n",
       "      <td>MIL</td>\n",
       "      <td>19</td>\n",
       "      <td>16</td>\n",
       "      <td>0 Dribbles</td>\n",
       "      <td>Touch &lt; 2 Seconds</td>\n",
       "      <td>4-6 Feet - Open</td>\n",
       "      <td>2.0</td>\n",
       "      <td>False</td>\n",
       "      <td>7.0</td>\n",
       "      <td>AtRim</td>\n",
       "      <td>0.693876</td>\n",
       "    </tr>\n",
       "    <tr>\n",
       "      <th>24</th>\n",
       "      <td>Bam Adebayo</td>\n",
       "      <td>Miami Heat</td>\n",
       "      <td>2</td>\n",
       "      <td>3.0</td>\n",
       "      <td>Center(C)</td>\n",
       "      <td>12</td>\n",
       "      <td>OKC</td>\n",
       "      <td>13</td>\n",
       "      <td>127</td>\n",
       "      <td>0 Dribbles</td>\n",
       "      <td>Touch &lt; 2 Seconds</td>\n",
       "      <td>2-4 Feet - Tight</td>\n",
       "      <td>2.0</td>\n",
       "      <td>True</td>\n",
       "      <td>9.0</td>\n",
       "      <td>ShortMidRange</td>\n",
       "      <td>0.365665</td>\n",
       "    </tr>\n",
       "  </tbody>\n",
       "</table>\n",
       "</div>"
      ],
      "text/plain": [
       "    player_name   team_name  period  time              shot_zone  \\\n",
       "3   Bam Adebayo  Miami Heat       2  10.0              Center(C)   \n",
       "14  Bam Adebayo  Miami Heat       1   9.0  Right Side Center(RC)   \n",
       "17  Bam Adebayo  Miami Heat       3   7.0              Center(C)   \n",
       "18  Bam Adebayo  Miami Heat       4   7.0              Center(C)   \n",
       "24  Bam Adebayo  Miami Heat       2   3.0              Center(C)   \n",
       "\n",
       "    shot_distance opponent   x    y dribble_range         touch_time  \\\n",
       "3               2      NOP -13   16    0 Dribbles  Touch < 2 Seconds   \n",
       "14             16      MIL  69  147    0 Dribbles  Touch < 2 Seconds   \n",
       "17             15      MIL  30  151    0 Dribbles  Touch < 2 Seconds   \n",
       "18              2      MIL  19   16    0 Dribbles  Touch < 2 Seconds   \n",
       "24             12      OKC  13  127    0 Dribbles  Touch < 2 Seconds   \n",
       "\n",
       "       closest_def_dist  value   made  margin      shot_type      prob  \n",
       "3      2-4 Feet - Tight    2.0   True     6.0          AtRim  0.637674  \n",
       "14  6+ Feet - Wide Open    2.0  False     1.0   LongMidRange  0.488386  \n",
       "17  6+ Feet - Wide Open    2.0   True   -14.0   LongMidRange  0.494798  \n",
       "18      4-6 Feet - Open    2.0  False     7.0          AtRim  0.693876  \n",
       "24     2-4 Feet - Tight    2.0   True     9.0  ShortMidRange  0.365665  "
      ]
     },
     "execution_count": 56,
     "metadata": {},
     "output_type": "execute_result"
    }
   ],
   "source": [
    "dataset_ref = dataset_ref[dataset_ref.index.isin(x_test.index)]\n",
    "dataset_ref[\"prob\"] = logistic_instance.predict_proba(x_test.sort_index())[:,1]\n",
    "dataset_ref.head()"
   ]
  },
  {
   "cell_type": "code",
   "execution_count": null,
   "id": "dab69505",
   "metadata": {},
   "outputs": [],
   "source": []
  }
 ],
 "metadata": {
  "kernelspec": {
   "display_name": "Python 3 (ipykernel)",
   "language": "python",
   "name": "python3"
  },
  "language_info": {
   "codemirror_mode": {
    "name": "ipython",
    "version": 3
   },
   "file_extension": ".py",
   "mimetype": "text/x-python",
   "name": "python",
   "nbconvert_exporter": "python",
   "pygments_lexer": "ipython3",
   "version": "3.9.12"
  }
 },
 "nbformat": 4,
 "nbformat_minor": 5
}
